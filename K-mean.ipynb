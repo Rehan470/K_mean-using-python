{
 "cells": [
  {
   "cell_type": "code",
   "execution_count": 3,
   "metadata": {
    "scrolled": true
   },
   "outputs": [
    {
     "name": "stdout",
     "output_type": "stream",
     "text": [
      "Enter value of a11\n",
      "Enter value of 34\n",
      "original array is [42 22 11 37 21 19 22 23 35 36 32 31 27 24 12]\n",
      "C1 is [31 11  0 26 10  8 11 12 24 25 21 20 16 13  1]\n",
      "C2 is [ 8 12 23  3 13 15 12 11  1  2  2  3  7 10 22]\n",
      "[ 1  0  0  1  0  0  0  1  1  1  1  1  1  1 12]\n",
      "After  1 Iterations it will be end\n"
     ]
    }
   ],
   "source": [
    "import numpy as np\n",
    "arr = (np.array([42,22,11,37,21,19,22,23,35,36,32,31,27,24,12]))\n",
    "a=float(input(\"Enter value of a\"))\n",
    "b=float(input(\"Enter value of b\"))\n",
    "f=True\n",
    "count=0;\n",
    "print(\"original array is\",arr)\n",
    "arr3=arr.copy()\n",
    "while f !=0:\n",
    "    c1=arr.copy()\n",
    "    num=0\n",
    "    i=0\n",
    "    for i in range(len(arr)):\n",
    "        c1[i]=a-c1[i]\n",
    "        if(c1[i]<0):\n",
    "            num=c1[i]\n",
    "            c1[i]=abs(num)\n",
    "    print(\"C1 is\",c1) \n",
    "     \n",
    "    c2=arr.copy()\n",
    "    num=0\n",
    "    j=0\n",
    "    for j in range(len(arr)):\n",
    "        c2[j]=b-c2[j]\n",
    "        if(c2[j]<0):\n",
    "            num=c2[j]\n",
    "            c2[j]=abs(num)\n",
    "    print(\"C2 is\",c2)          \n",
    "       \n",
    "    count1=0\n",
    "    count2=0\n",
    "    sum_of_c1=0\n",
    "    sum_of_c2=0\n",
    "    k=0\n",
    "    arr2=arr.copy()\n",
    "    for k in range(14):\n",
    "        if(c1[k]<c2[k]):\n",
    "            sum_of_c1=sum_of_c1+arr[k]\n",
    "            count1=count1+1\n",
    "            arr2[k]=0;\n",
    "        else:\n",
    "            sum_of_c2=sum_of_c2+arr[k]\n",
    "            count2=count2+1\n",
    "            arr2[k]=1\n",
    "            \n",
    "    aa=(sum_of_c1/count1)\n",
    "    bb=(sum_of_c2/count2)\n",
    "    print(arr2)\n",
    "    a=aa\n",
    "    b=bb\n",
    "    f=False\n",
    "    l=0\n",
    "    for l in range(len(arr)):\n",
    "        if(arr2[l]==arr3[l]):\n",
    "            f=True\n",
    "        else:\n",
    "            f=False\n",
    "            break\n",
    "    arr3=arr2\n",
    "    count=count+1\n",
    "print(\"After \",count,\"Iterations it will be end\")"
   ]
  }
 ],
 "metadata": {
  "kernelspec": {
   "display_name": "Python 3",
   "language": "python",
   "name": "python3"
  },
  "language_info": {
   "codemirror_mode": {
    "name": "ipython",
    "version": 3
   },
   "file_extension": ".py",
   "mimetype": "text/x-python",
   "name": "python",
   "nbconvert_exporter": "python",
   "pygments_lexer": "ipython3",
   "version": "3.8.5"
  }
 },
 "nbformat": 4,
 "nbformat_minor": 4
}
